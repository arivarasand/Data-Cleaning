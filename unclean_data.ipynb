{
 "cells": [
  {
   "cell_type": "code",
   "execution_count": 207,
   "metadata": {},
   "outputs": [],
   "source": [
    "import numpy as np \n",
    "import pandas as pd \n",
    "import matplotlib.pyplot as plt \n",
    "%matplotlib inline "
   ]
  },
  {
   "cell_type": "code",
   "execution_count": 331,
   "metadata": {},
   "outputs": [],
   "source": [
    "df=pd.read_csv(r\"F:\\unclean_data.txt\",sep=',')"
   ]
  },
  {
   "cell_type": "code",
   "execution_count": 332,
   "metadata": {},
   "outputs": [
    {
     "data": {
      "text/html": [
       "<div>\n",
       "<style scoped>\n",
       "    .dataframe tbody tr th:only-of-type {\n",
       "        vertical-align: middle;\n",
       "    }\n",
       "\n",
       "    .dataframe tbody tr th {\n",
       "        vertical-align: top;\n",
       "    }\n",
       "\n",
       "    .dataframe thead th {\n",
       "        text-align: right;\n",
       "    }\n",
       "</style>\n",
       "<table border=\"1\" class=\"dataframe\">\n",
       "  <thead>\n",
       "    <tr style=\"text-align: right;\">\n",
       "      <th></th>\n",
       "      <th>movie_title</th>\n",
       "      <th>num_critic_for_reviews</th>\n",
       "      <th>duration</th>\n",
       "      <th>DIRECTOR_facebook_likes</th>\n",
       "      <th>actor_3_facebook_likes</th>\n",
       "      <th>ACTOR_1_facebook_likes</th>\n",
       "      <th>gross</th>\n",
       "      <th>num_voted_users</th>\n",
       "      <th>Cast_Total_facebook_likes</th>\n",
       "      <th>facenumber_in_poster</th>\n",
       "      <th>num_user_for_reviews</th>\n",
       "      <th>budget</th>\n",
       "      <th>title_year</th>\n",
       "      <th>ACTOR_2_facebook_likes</th>\n",
       "      <th>imdb_score</th>\n",
       "      <th>title_year.1</th>\n",
       "    </tr>\n",
       "  </thead>\n",
       "  <tbody>\n",
       "    <tr>\n",
       "      <th>0</th>\n",
       "      <td>Avatar?ÿ</td>\n",
       "      <td>723</td>\n",
       "      <td>178.0</td>\n",
       "      <td>10</td>\n",
       "      <td>855</td>\n",
       "      <td>1000</td>\n",
       "      <td>760505847</td>\n",
       "      <td>886204.0</td>\n",
       "      <td>4834.0</td>\n",
       "      <td>NaN</td>\n",
       "      <td>3054</td>\n",
       "      <td>237000000</td>\n",
       "      <td>2009</td>\n",
       "      <td>936.0</td>\n",
       "      <td>7.9</td>\n",
       "      <td>2009.0</td>\n",
       "    </tr>\n",
       "    <tr>\n",
       "      <th>1</th>\n",
       "      <td>Pirates of the Caribbean: At World's End?ÿ</td>\n",
       "      <td>302</td>\n",
       "      <td>NaN</td>\n",
       "      <td>563</td>\n",
       "      <td>1000</td>\n",
       "      <td>40000</td>\n",
       "      <td>309404152</td>\n",
       "      <td>471220.0</td>\n",
       "      <td>48350.0</td>\n",
       "      <td>NaN</td>\n",
       "      <td>1238</td>\n",
       "      <td>300000000</td>\n",
       "      <td>2007</td>\n",
       "      <td>5000.0</td>\n",
       "      <td>7.1</td>\n",
       "      <td>NaN</td>\n",
       "    </tr>\n",
       "    <tr>\n",
       "      <th>2</th>\n",
       "      <td>Spectre?ÿ</td>\n",
       "      <td>602</td>\n",
       "      <td>148.0</td>\n",
       "      <td>20</td>\n",
       "      <td>161</td>\n",
       "      <td>11000</td>\n",
       "      <td>200074175</td>\n",
       "      <td>275868.0</td>\n",
       "      <td>11700.0</td>\n",
       "      <td>1.0</td>\n",
       "      <td>994</td>\n",
       "      <td>245000000</td>\n",
       "      <td>2015</td>\n",
       "      <td>393.0</td>\n",
       "      <td>6.8</td>\n",
       "      <td>2015.0</td>\n",
       "    </tr>\n",
       "    <tr>\n",
       "      <th>3</th>\n",
       "      <td>The Dark Knight Rises?ÿ</td>\n",
       "      <td>813</td>\n",
       "      <td>NaN</td>\n",
       "      <td>22000</td>\n",
       "      <td>23000</td>\n",
       "      <td>27000</td>\n",
       "      <td>448130642</td>\n",
       "      <td>1144337.0</td>\n",
       "      <td>106759.0</td>\n",
       "      <td>NaN</td>\n",
       "      <td>2701</td>\n",
       "      <td>250000000</td>\n",
       "      <td>2012</td>\n",
       "      <td>23000.0</td>\n",
       "      <td>8.5</td>\n",
       "      <td>NaN</td>\n",
       "    </tr>\n",
       "    <tr>\n",
       "      <th>4</th>\n",
       "      <td>John Carter?ÿ</td>\n",
       "      <td>462</td>\n",
       "      <td>132.0</td>\n",
       "      <td>\"475\"</td>\n",
       "      <td>530</td>\n",
       "      <td>640</td>\n",
       "      <td>73058679</td>\n",
       "      <td>212204.0</td>\n",
       "      <td>1873.0</td>\n",
       "      <td>1.0</td>\n",
       "      <td>738</td>\n",
       "      <td>263700000</td>\n",
       "      <td>2012</td>\n",
       "      <td>632.0</td>\n",
       "      <td>6.6</td>\n",
       "      <td>NaN</td>\n",
       "    </tr>\n",
       "  </tbody>\n",
       "</table>\n",
       "</div>"
      ],
      "text/plain": [
       "                                  movie_title  num_critic_for_reviews  \\\n",
       "0                                    Avatar?ÿ                     723   \n",
       "1  Pirates of the Caribbean: At World's End?ÿ                     302   \n",
       "2                                   Spectre?ÿ                     602   \n",
       "3                     The Dark Knight Rises?ÿ                     813   \n",
       "4                               John Carter?ÿ                     462   \n",
       "\n",
       "   duration DIRECTOR_facebook_likes  actor_3_facebook_likes  \\\n",
       "0     178.0                      10                     855   \n",
       "1       NaN                     563                    1000   \n",
       "2     148.0                      20                     161   \n",
       "3       NaN                   22000                   23000   \n",
       "4     132.0                   \"475\"                     530   \n",
       "\n",
       "   ACTOR_1_facebook_likes      gross  num_voted_users  \\\n",
       "0                    1000  760505847         886204.0   \n",
       "1                   40000  309404152         471220.0   \n",
       "2                   11000  200074175         275868.0   \n",
       "3                   27000  448130642        1144337.0   \n",
       "4                     640   73058679         212204.0   \n",
       "\n",
       "   Cast_Total_facebook_likes  facenumber_in_poster  num_user_for_reviews  \\\n",
       "0                     4834.0                   NaN                  3054   \n",
       "1                    48350.0                   NaN                  1238   \n",
       "2                    11700.0                   1.0                   994   \n",
       "3                   106759.0                   NaN                  2701   \n",
       "4                     1873.0                   1.0                   738   \n",
       "\n",
       "      budget  title_year  ACTOR_2_facebook_likes  imdb_score  title_year.1  \n",
       "0  237000000        2009                   936.0         7.9        2009.0  \n",
       "1  300000000        2007                  5000.0         7.1           NaN  \n",
       "2  245000000        2015                   393.0         6.8        2015.0  \n",
       "3  250000000        2012                 23000.0         8.5           NaN  \n",
       "4  263700000        2012                   632.0         6.6           NaN  "
      ]
     },
     "execution_count": 332,
     "metadata": {},
     "output_type": "execute_result"
    }
   ],
   "source": [
    "df.head()"
   ]
  },
  {
   "cell_type": "code",
   "execution_count": 333,
   "metadata": {},
   "outputs": [
    {
     "name": "stdout",
     "output_type": "stream",
     "text": [
      "<class 'pandas.core.frame.DataFrame'>\n",
      "RangeIndex: 14 entries, 0 to 13\n",
      "Data columns (total 16 columns):\n",
      " #   Column                     Non-Null Count  Dtype  \n",
      "---  ------                     --------------  -----  \n",
      " 0   movie_title                14 non-null     object \n",
      " 1   num_critic_for_reviews     14 non-null     int64  \n",
      " 2   duration                   11 non-null     float64\n",
      " 3   DIRECTOR_facebook_likes    12 non-null     object \n",
      " 4   actor_3_facebook_likes     14 non-null     int64  \n",
      " 5   ACTOR_1_facebook_likes     14 non-null     int64  \n",
      " 6   gross                      14 non-null     int64  \n",
      " 7   num_voted_users            13 non-null     float64\n",
      " 8   Cast_Total_facebook_likes  12 non-null     float64\n",
      " 9   facenumber_in_poster       9 non-null      float64\n",
      " 10  num_user_for_reviews       14 non-null     int64  \n",
      " 11  budget                     14 non-null     int64  \n",
      " 12  title_year                 14 non-null     int64  \n",
      " 13  ACTOR_2_facebook_likes     13 non-null     float64\n",
      " 14  imdb_score                 14 non-null     float64\n",
      " 15  title_year.1               7 non-null      float64\n",
      "dtypes: float64(7), int64(7), object(2)\n",
      "memory usage: 1.9+ KB\n"
     ]
    }
   ],
   "source": [
    "df.info()"
   ]
  },
  {
   "cell_type": "code",
   "execution_count": 334,
   "metadata": {},
   "outputs": [
    {
     "data": {
      "text/plain": [
       "Index(['movie_title', 'num_critic_for_reviews', 'duration',\n",
       "       'DIRECTOR_facebook_likes', 'actor_3_facebook_likes',\n",
       "       'ACTOR_1_facebook_likes', 'gross', 'num_voted_users',\n",
       "       'Cast_Total_facebook_likes', 'facenumber_in_poster',\n",
       "       'num_user_for_reviews', 'budget', 'title_year',\n",
       "       'ACTOR_2_facebook_likes', 'imdb_score', 'title_year.1'],\n",
       "      dtype='object')"
      ]
     },
     "execution_count": 334,
     "metadata": {},
     "output_type": "execute_result"
    }
   ],
   "source": [
    "df.columns"
   ]
  },
  {
   "cell_type": "markdown",
   "metadata": {},
   "source": [
    "# Renaming Columns"
   ]
  },
  {
   "cell_type": "code",
   "execution_count": 335,
   "metadata": {},
   "outputs": [],
   "source": [
    "df.rename(columns={'num_critic_for_reviews':\"critic_reviews\",\n",
    "                  'DIRECTOR_facebook_likes':\"fb_likes_director\",\n",
    "                  'actor_3_facebook_likes':\"fb_likes_actor_3\",\n",
    "                  'ACTOR_1_facebook_likes':\"fb_likes_actor_1\",\n",
    "                  'gross':'gross_revenue',\n",
    "                  'num_voted_users':\"users_vote_count\",\n",
    "                  'Cast_Total_facebook_likes':\"fb_likes_cast\",\n",
    "                  'facenumber_in_poster':\"actors_on_posters\",\n",
    "                  'num_user_for_reviews':\"user_reviews\",\n",
    "                  'ACTOR_2_facebook_likes':\"fb_likes_actor_2\"},inplace =True)"
   ]
  },
  {
   "cell_type": "code",
   "execution_count": 336,
   "metadata": {},
   "outputs": [
    {
     "data": {
      "text/plain": [
       "Index(['movie_title', 'critic_reviews', 'duration', 'fb_likes_director',\n",
       "       'fb_likes_actor_3', 'fb_likes_actor_1', 'gross_revenue',\n",
       "       'users_vote_count', 'fb_likes_cast', 'actors_on_posters',\n",
       "       'user_reviews', 'budget', 'title_year', 'fb_likes_actor_2',\n",
       "       'imdb_score', 'title_year.1'],\n",
       "      dtype='object')"
      ]
     },
     "execution_count": 336,
     "metadata": {},
     "output_type": "execute_result"
    }
   ],
   "source": [
    "df.columns"
   ]
  },
  {
   "cell_type": "markdown",
   "metadata": {},
   "source": [
    "# Dropping Duplicate columns"
   ]
  },
  {
   "cell_type": "code",
   "execution_count": 337,
   "metadata": {},
   "outputs": [],
   "source": [
    "df.drop([\"title_year.1\"],axis=1,inplace=True)"
   ]
  },
  {
   "cell_type": "markdown",
   "metadata": {},
   "source": [
    "# Check for null values"
   ]
  },
  {
   "cell_type": "code",
   "execution_count": 338,
   "metadata": {},
   "outputs": [
    {
     "data": {
      "text/plain": [
       "movie_title          0\n",
       "critic_reviews       0\n",
       "duration             3\n",
       "fb_likes_director    2\n",
       "fb_likes_actor_3     0\n",
       "fb_likes_actor_1     0\n",
       "gross_revenue        0\n",
       "users_vote_count     1\n",
       "fb_likes_cast        2\n",
       "actors_on_posters    5\n",
       "user_reviews         0\n",
       "budget               0\n",
       "title_year           0\n",
       "fb_likes_actor_2     1\n",
       "imdb_score           0\n",
       "dtype: int64"
      ]
     },
     "execution_count": 338,
     "metadata": {},
     "output_type": "execute_result"
    }
   ],
   "source": [
    "df.isnull().sum()"
   ]
  },
  {
   "cell_type": "markdown",
   "metadata": {},
   "source": [
    "# null value imputation methods"
   ]
  },
  {
   "cell_type": "code",
   "execution_count": 339,
   "metadata": {},
   "outputs": [
    {
     "data": {
      "text/plain": [
       "movie_title           object\n",
       "critic_reviews         int64\n",
       "duration             float64\n",
       "fb_likes_director     object\n",
       "fb_likes_actor_3       int64\n",
       "fb_likes_actor_1       int64\n",
       "gross_revenue          int64\n",
       "users_vote_count     float64\n",
       "fb_likes_cast        float64\n",
       "actors_on_posters    float64\n",
       "user_reviews           int64\n",
       "budget                 int64\n",
       "title_year             int64\n",
       "fb_likes_actor_2     float64\n",
       "imdb_score           float64\n",
       "dtype: object"
      ]
     },
     "execution_count": 339,
     "metadata": {},
     "output_type": "execute_result"
    }
   ],
   "source": [
    "df.dtypes"
   ]
  },
  {
   "cell_type": "code",
   "execution_count": 340,
   "metadata": {},
   "outputs": [],
   "source": [
    "df=df.fillna(1)\n",
    "df_mean_duration=df.duration.fillna(df['duration'].mean())\n",
    "df_median_duration=df.duration.fillna(df['duration'].median())\n",
    "df_ffill_duration=df.duration.fillna(method=\"ffill\")\n",
    "df_bfill_duration=df.duration.fillna(method=\"bfill\")\n",
    "df_interpolate_duration=df.duration.interpolate()"
   ]
  },
  {
   "cell_type": "code",
   "execution_count": 341,
   "metadata": {},
   "outputs": [],
   "source": [
    "df=df.fillna(0)\n",
    "     "
   ]
  },
  {
   "cell_type": "markdown",
   "metadata": {},
   "source": [
    "# Change Data Types"
   ]
  },
  {
   "cell_type": "code",
   "execution_count": 275,
   "metadata": {},
   "outputs": [],
   "source": [
    "df[[\"actors_on_posters\",\"users_vote_count\",\"fb_likes_cast\",\"fb_likes_actor_2\"]]=df[[\"actors_on_posters\",\"users_vote_count\",\"fb_likes_cast\",\"fb_likes_actor_2\"]].astype(\"int64\")"
   ]
  },
  {
   "cell_type": "code",
   "execution_count": 277,
   "metadata": {},
   "outputs": [],
   "source": [
    "df.dropna(axis=0,inplace=True)"
   ]
  },
  {
   "cell_type": "code",
   "execution_count": 280,
   "metadata": {},
   "outputs": [
    {
     "data": {
      "text/plain": [
       "0        10\n",
       "1       563\n",
       "2        20\n",
       "3     22000\n",
       "4     \"475\"\n",
       "5        23\n",
       "6        15\n",
       "7        10\n",
       "8        10\n",
       "9       282\n",
       "10        1\n",
       "11        1\n",
       "12      395\n",
       "13      563\n",
       "Name: fb_likes_director, dtype: object"
      ]
     },
     "execution_count": 280,
     "metadata": {},
     "output_type": "execute_result"
    }
   ],
   "source": [
    "df.fb_likes_director"
   ]
  },
  {
   "cell_type": "markdown",
   "metadata": {},
   "source": [
    "# filter and drop a row"
   ]
  },
  {
   "cell_type": "code",
   "execution_count": 305,
   "metadata": {},
   "outputs": [],
   "source": [
    "index=df[df.fb_likes_director=='\"475\"'].index"
   ]
  },
  {
   "cell_type": "code",
   "execution_count": 307,
   "metadata": {},
   "outputs": [],
   "source": [
    "df.drop(index,axis=0,inplace=True)"
   ]
  },
  {
   "cell_type": "code",
   "execution_count": 308,
   "metadata": {},
   "outputs": [
    {
     "data": {
      "text/html": [
       "<div>\n",
       "<style scoped>\n",
       "    .dataframe tbody tr th:only-of-type {\n",
       "        vertical-align: middle;\n",
       "    }\n",
       "\n",
       "    .dataframe tbody tr th {\n",
       "        vertical-align: top;\n",
       "    }\n",
       "\n",
       "    .dataframe thead th {\n",
       "        text-align: right;\n",
       "    }\n",
       "</style>\n",
       "<table border=\"1\" class=\"dataframe\">\n",
       "  <thead>\n",
       "    <tr style=\"text-align: right;\">\n",
       "      <th></th>\n",
       "      <th>movie_title</th>\n",
       "      <th>critic_reviews</th>\n",
       "      <th>duration</th>\n",
       "      <th>fb_likes_director</th>\n",
       "      <th>fb_likes_actor_3</th>\n",
       "      <th>fb_likes_actor_1</th>\n",
       "      <th>gross_revenue</th>\n",
       "      <th>users_vote_count</th>\n",
       "      <th>fb_likes_cast</th>\n",
       "      <th>actors_on_posters</th>\n",
       "      <th>user_reviews</th>\n",
       "      <th>budget</th>\n",
       "      <th>title_year</th>\n",
       "      <th>fb_likes_actor_2</th>\n",
       "      <th>imdb_score</th>\n",
       "    </tr>\n",
       "  </thead>\n",
       "  <tbody>\n",
       "    <tr>\n",
       "      <th>0</th>\n",
       "      <td>Avatar?ÿ</td>\n",
       "      <td>723</td>\n",
       "      <td>178.0</td>\n",
       "      <td>10</td>\n",
       "      <td>855</td>\n",
       "      <td>1000</td>\n",
       "      <td>760505847</td>\n",
       "      <td>886204</td>\n",
       "      <td>4834</td>\n",
       "      <td>1</td>\n",
       "      <td>3054</td>\n",
       "      <td>237000000</td>\n",
       "      <td>2009</td>\n",
       "      <td>936</td>\n",
       "      <td>7.9</td>\n",
       "    </tr>\n",
       "    <tr>\n",
       "      <th>1</th>\n",
       "      <td>Pirates of the Caribbean: At World's End?ÿ</td>\n",
       "      <td>302</td>\n",
       "      <td>1.0</td>\n",
       "      <td>563</td>\n",
       "      <td>1000</td>\n",
       "      <td>40000</td>\n",
       "      <td>309404152</td>\n",
       "      <td>471220</td>\n",
       "      <td>48350</td>\n",
       "      <td>1</td>\n",
       "      <td>1238</td>\n",
       "      <td>300000000</td>\n",
       "      <td>2007</td>\n",
       "      <td>5000</td>\n",
       "      <td>7.1</td>\n",
       "    </tr>\n",
       "    <tr>\n",
       "      <th>2</th>\n",
       "      <td>Spectre?ÿ</td>\n",
       "      <td>602</td>\n",
       "      <td>148.0</td>\n",
       "      <td>20</td>\n",
       "      <td>161</td>\n",
       "      <td>11000</td>\n",
       "      <td>200074175</td>\n",
       "      <td>275868</td>\n",
       "      <td>11700</td>\n",
       "      <td>1</td>\n",
       "      <td>994</td>\n",
       "      <td>245000000</td>\n",
       "      <td>2015</td>\n",
       "      <td>393</td>\n",
       "      <td>6.8</td>\n",
       "    </tr>\n",
       "    <tr>\n",
       "      <th>3</th>\n",
       "      <td>The Dark Knight Rises?ÿ</td>\n",
       "      <td>813</td>\n",
       "      <td>1.0</td>\n",
       "      <td>22000</td>\n",
       "      <td>23000</td>\n",
       "      <td>27000</td>\n",
       "      <td>448130642</td>\n",
       "      <td>1144337</td>\n",
       "      <td>106759</td>\n",
       "      <td>1</td>\n",
       "      <td>2701</td>\n",
       "      <td>250000000</td>\n",
       "      <td>2012</td>\n",
       "      <td>23000</td>\n",
       "      <td>8.5</td>\n",
       "    </tr>\n",
       "    <tr>\n",
       "      <th>5</th>\n",
       "      <td>Spider-Man 3?ÿ</td>\n",
       "      <td>392</td>\n",
       "      <td>156.0</td>\n",
       "      <td>23</td>\n",
       "      <td>4000</td>\n",
       "      <td>24000</td>\n",
       "      <td>336530303</td>\n",
       "      <td>383056</td>\n",
       "      <td>46055</td>\n",
       "      <td>1</td>\n",
       "      <td>1902</td>\n",
       "      <td>258000000</td>\n",
       "      <td>2007</td>\n",
       "      <td>11000</td>\n",
       "      <td>6.2</td>\n",
       "    </tr>\n",
       "  </tbody>\n",
       "</table>\n",
       "</div>"
      ],
      "text/plain": [
       "                                  movie_title  critic_reviews  duration  \\\n",
       "0                                    Avatar?ÿ             723     178.0   \n",
       "1  Pirates of the Caribbean: At World's End?ÿ             302       1.0   \n",
       "2                                   Spectre?ÿ             602     148.0   \n",
       "3                     The Dark Knight Rises?ÿ             813       1.0   \n",
       "5                              Spider-Man 3?ÿ             392     156.0   \n",
       "\n",
       "  fb_likes_director  fb_likes_actor_3  fb_likes_actor_1  gross_revenue  \\\n",
       "0                10               855              1000      760505847   \n",
       "1               563              1000             40000      309404152   \n",
       "2                20               161             11000      200074175   \n",
       "3             22000             23000             27000      448130642   \n",
       "5                23              4000             24000      336530303   \n",
       "\n",
       "   users_vote_count  fb_likes_cast  actors_on_posters  user_reviews  \\\n",
       "0            886204           4834                  1          3054   \n",
       "1            471220          48350                  1          1238   \n",
       "2            275868          11700                  1           994   \n",
       "3           1144337         106759                  1          2701   \n",
       "5            383056          46055                  1          1902   \n",
       "\n",
       "      budget  title_year  fb_likes_actor_2  imdb_score  \n",
       "0  237000000        2009               936         7.9  \n",
       "1  300000000        2007              5000         7.1  \n",
       "2  245000000        2015               393         6.8  \n",
       "3  250000000        2012             23000         8.5  \n",
       "5  258000000        2007             11000         6.2  "
      ]
     },
     "execution_count": 308,
     "metadata": {},
     "output_type": "execute_result"
    }
   ],
   "source": [
    "df.head()"
   ]
  },
  {
   "cell_type": "code",
   "execution_count": null,
   "metadata": {},
   "outputs": [],
   "source": []
  }
 ],
 "metadata": {
  "kernelspec": {
   "display_name": "Python 3",
   "language": "python",
   "name": "python3"
  },
  "language_info": {
   "codemirror_mode": {
    "name": "ipython",
    "version": 3
   },
   "file_extension": ".py",
   "mimetype": "text/x-python",
   "name": "python",
   "nbconvert_exporter": "python",
   "pygments_lexer": "ipython3",
   "version": "3.7.7"
  }
 },
 "nbformat": 4,
 "nbformat_minor": 4
}
